{
 "cells": [
  {
   "cell_type": "code",
   "execution_count": 1,
   "id": "18ace2c5-ce6f-4035-9db9-6376e60923a0",
   "metadata": {},
   "outputs": [
    {
     "name": "stdout",
     "output_type": "stream",
     "text": [
      "Mohamed <class 'str'>\n",
      "21 <class 'str'>\n",
      "Mansoura <class 'str'>\n",
      "3.91 <class 'float'>\n",
      "False <class 'bool'>\n"
     ]
    }
   ],
   "source": [
    "#1- write 5 different variables and check for it's data types using type() function\n",
    "name=\"Mohamed\"\n",
    "print(name,type(name))\n",
    "age=\"21\"\n",
    "print(age,type(age))\n",
    "city= \"Mansoura\"\n",
    "print(city,type(city))\n",
    "GPA=3.91\n",
    "print(GPA,type(GPA))\n",
    "Job= False\n",
    "print(Job,type(Job))"
   ]
  },
  {
   "cell_type": "code",
   "execution_count": 2,
   "id": "73f47e78-dd00-4f6a-bf98-d6be5ca811af",
   "metadata": {},
   "outputs": [
    {
     "name": "stdin",
     "output_type": "stream",
     "text": [
      "Enter value: 1 2 3 \n"
     ]
    },
    {
     "name": "stdout",
     "output_type": "stream",
     "text": [
      "1 2 3\n"
     ]
    }
   ],
   "source": [
    "#2- write 3 variable and take it in one line using split() function and print it\n",
    "x,y,z=input(\"Enter value:\").split()\n",
    "print(x,y,z)"
   ]
  },
  {
   "cell_type": "code",
   "execution_count": 3,
   "id": "eef5cd07-b5f5-4504-8780-13beca14b9b3",
   "metadata": {},
   "outputs": [
    {
     "name": "stdin",
     "output_type": "stream",
     "text": [
      "input 3 variables: 4 5 6 \n"
     ]
    },
    {
     "name": "stdout",
     "output_type": "stream",
     "text": [
      "4 5 6\n"
     ]
    }
   ],
   "source": [
    "#3- write 3 integer variables and take it in one line and print it.\n",
    "x,y,z = map(int, input(\"input 3 variables:\").split())\n",
    "print(x,y,z)"
   ]
  },
  {
   "cell_type": "code",
   "execution_count": 4,
   "id": "fa498090-5436-4c4c-8f4d-4df663293a84",
   "metadata": {},
   "outputs": [
    {
     "name": "stdin",
     "output_type": "stream",
     "text": [
      "Number: 3333\n"
     ]
    },
    {
     "name": "stdout",
     "output_type": "stream",
     "text": [
      "4\n"
     ]
    }
   ],
   "source": [
    "#4- write program take number from user then convert it to string \" casting \" then print length of this string using len() function\n",
    "number=int(input(\"Number:\"))\n",
    "string=str(number)\n",
    "print(len(string))"
   ]
  },
  {
   "cell_type": "code",
   "execution_count": 5,
   "id": "3ae3f296-62b7-47d8-b017-f26228534784",
   "metadata": {},
   "outputs": [
    {
     "name": "stdin",
     "output_type": "stream",
     "text": [
      "Enter Number: 33 22 6666 777777\n"
     ]
    },
    {
     "name": "stdout",
     "output_type": "stream",
     "text": [
      "Minimum:22\n",
      "Maximum:777777\n"
     ]
    }
   ],
   "source": [
    "#5- take integer multiple number in one line using map and split then print maximum and minimum number from it using min and max function\n",
    "Numbers=tuple(map(int,input(\"Enter Number:\").split()))\n",
    "minimum= min(Numbers)\n",
    "print(f\"Minimum:{minimum}\")\n",
    "maximum= max(Numbers)\n",
    "print(f\"Maximum:{maximum}\")"
   ]
  },
  {
   "cell_type": "code",
   "execution_count": null,
   "id": "2919b86c-b84a-4463-92cf-cbae9970c075",
   "metadata": {},
   "outputs": [],
   "source": []
  }
 ],
 "metadata": {
  "kernelspec": {
   "display_name": "Python 3 (ipykernel)",
   "language": "python",
   "name": "python3"
  },
  "language_info": {
   "codemirror_mode": {
    "name": "ipython",
    "version": 3
   },
   "file_extension": ".py",
   "mimetype": "text/x-python",
   "name": "python",
   "nbconvert_exporter": "python",
   "pygments_lexer": "ipython3",
   "version": "3.11.5"
  }
 },
 "nbformat": 4,
 "nbformat_minor": 5
}
